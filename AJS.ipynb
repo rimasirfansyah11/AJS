{
 "cells": [
  {
   "cell_type": "code",
   "execution_count": 1,
   "metadata": {},
   "outputs": [],
   "source": [
    "import twint\n",
    "import nest_asyncio\n",
    "import pandas as pd\n",
    "import json\n",
    "\n",
    "nest_asyncio.apply()"
   ]
  },
  {
   "cell_type": "code",
   "execution_count": 2,
   "metadata": {},
   "outputs": [],
   "source": [
    "# Configure\n",
    "#c = twint.Config()\n",
    "#c.Username = 'InfoSumbar'\n",
    "#c.Search= 'vaksin'\n",
    "#c.Since = \"2020-08-01\" #batas awal tanggal pengambilan tweet\n",
    "#c.Until = \"2021-04-05\" #batas akhir tanggal pengambilan tweet\n",
    "#c.Lang= 'en' \n",
    "#c.Pandas= True \n",
    "#c.Limit= 1000 \n",
    "\n",
    "# Run\n",
    "#twint.run.Search(c)"
   ]
  },
  {
   "cell_type": "code",
   "execution_count": 3,
   "metadata": {},
   "outputs": [],
   "source": [
    "#c = twint.Config()\n",
    "#c.Username = 'RadioElshinta'\n",
    "#c.Search= 'vaksin'\n",
    "#c.Since = \"2020-08-01\" #batas awal tanggal pengambilan tweet\n",
    "#c.Until = \"2021-04-05\" #batas akhir tanggal pengambilan tweet \n",
    "#c.Lang= 'en' \n",
    "#c.Pandas= True \n",
    "#c.Limit= 1000 \n",
    "#c.Count = True         \n",
    "#c.Retweets = True\n",
    "#c.Stats = True \n",
    "#c.Show_hashtags = True\n",
    "#c.Hide_output = True\n",
    "#c.Profile_full = True\n",
    "#c.Store_json = True\n",
    "#c.Output = './output_twint_5.json' # save to json\n",
    "#twint.run.Search(c)"
   ]
  },
  {
   "cell_type": "code",
   "execution_count": 4,
   "metadata": {},
   "outputs": [],
   "source": [
    "#import json\n",
    "#ajs = pd.read_json('output_twint_5.json', lines=True)"
   ]
  },
  {
   "cell_type": "code",
   "execution_count": 5,
   "metadata": {},
   "outputs": [],
   "source": [
    "#ajs[['conversation_id', 'id','date','time','username','tweet','mentions','replies_count','retweets_count','likes_count','hashtags','reply_to','link']]"
   ]
  },
  {
   "cell_type": "code",
   "execution_count": 6,
   "metadata": {},
   "outputs": [],
   "source": [
    "#from getpass import getpass\n",
    "#from time import sleep\n",
    "#from selenium.webdriver.common.keys import Keys\n",
    "#from selenium.common.exceptions import NoSuchElementException\n",
    "#from selenium import webdriver\n",
    "#import pandas as pd\n",
    "#import numpy as np\n",
    "#from datetime import datetime, timedelta"
   ]
  },
  {
   "cell_type": "code",
   "execution_count": 7,
   "metadata": {},
   "outputs": [],
   "source": [
    "#import sys\n",
    "#chrome_options = webdriver.ChromeOptions()\n",
    "#prefs = {\"profile.default_content_setting_values.notifications\" : 2}\n",
    "#chrome_options.add_experimental_option(\"prefs\",prefs)\n",
    "#chrome_options.add_argument('headless') # untuk menutup browser\n",
    "\n",
    "#specify the path to chromedriver.exe\n",
    "#driver = webdriver.Chrome('/Users/ayumutiara/Downloads/chromedriver',chrome_options=chrome_options)"
   ]
  },
  {
   "cell_type": "code",
   "execution_count": 8,
   "metadata": {},
   "outputs": [],
   "source": [
    "#driver.get('https://www.twitter.com/login')\n",
    "#sleep(2)\n",
    "\n",
    "#username = driver.find_element_by_xpath('//input[@name=\"session[username_or_email]\"]')\n",
    "#username.send_keys('ayu_mutiarasari') # Ubah username sesuai akun pribadi\n",
    "\n",
    "#my_password = getpass()\n",
    "\n",
    "#password = driver.find_element_by_xpath('//input[@name=\"session[password]\"]')\n",
    "#password.send_keys(my_password)\n",
    "#password.send_keys(Keys.RETURN)"
   ]
  },
  {
   "cell_type": "code",
   "execution_count": 9,
   "metadata": {},
   "outputs": [],
   "source": [
    "#data_tweets = ajs[['conversation_id', 'id','date','time','username','tweet','mentions','replies_count','retweets_count','likes_count','hashtags','reply_to','link']]\n",
    "#data_tweets"
   ]
  },
  {
   "cell_type": "code",
   "execution_count": 10,
   "metadata": {},
   "outputs": [],
   "source": [
    "#def get_list_likes(link):\n",
    "#    list_likes = []\n",
    "#    driver.get(link + '/likes')#open link\n",
    "#    sleep(2) #jeda waktu\n",
    "    \n",
    "    #scroll to bottom\n",
    "#    driver.execute_script(\"window.scrollTo(0, document.body.scrollHeight);\")\n",
    "#    sleep(2)\n",
    "    \n",
    "#    try:\n",
    "#        likes_container = driver.find_element_by_xpath('//div[@aria-label=\"Timeline: Liked by\"]') #element dasar likes\n",
    "#        if likes_container: #jika ada maka\n",
    "#            likes = likes_container.find_elements_by_xpath('//div[@dir=\"ltr\"]/span')\n",
    "#            for like in likes:\n",
    "#                list_likes.append(like.text)\n",
    "#    except:\n",
    "#        return list_likes\n",
    "#    return list_likes\n",
    "\n",
    "\n",
    "#def get_list_retweets(link):\n",
    "#    list_retweets = []\n",
    "#    driver.get(link + '/retweets') #open link\n",
    "#    sleep(2)#jeda waktu\n",
    "   \n",
    "    #scroll to bottom\n",
    "#    driver.execute_script(\"window.scrollTo(0, document.body.scrollHeight);\")\n",
    "#    sleep(2)\n",
    "    \n",
    "#    try:\n",
    "#        retweets_container = driver.find_element_by_xpath('//div[@aria-label=\"Timeline: Retweeted by\"]')\n",
    "#        if retweets_container:\n",
    "#            retweets = retweets_container.find_elements_by_xpath('//div[@dir=\"ltr\"]/span')\n",
    "#            for retweet in retweets:\n",
    "#                list_retweets.append(retweet.text)\n",
    "#    except:\n",
    "#        pass\n",
    "#    return list_retweets"
   ]
  },
  {
   "cell_type": "code",
   "execution_count": 11,
   "metadata": {},
   "outputs": [],
   "source": [
    "#arr_temp = []\n",
    "#for i, row in data_tweets.iterrows():\n",
    "#     arr_temp.append(get_list_likes(row['link']))   \n",
    "\n",
    "#data_tweets['list_likes'] = arr_temp"
   ]
  },
  {
   "cell_type": "code",
   "execution_count": 12,
   "metadata": {},
   "outputs": [],
   "source": [
    "#data_tweets['list_likes']"
   ]
  },
  {
   "cell_type": "code",
   "execution_count": 13,
   "metadata": {},
   "outputs": [],
   "source": [
    "#arr_temp = []\n",
    "#for i, row in data_tweets.iterrows():\n",
    "#     arr_temp.append(get_list_retweets(row['link']))\n",
    "\n",
    "#data_tweets['list_retweets'] = arr_temp\n",
    "#data_tweets['list_retweets']"
   ]
  },
  {
   "cell_type": "code",
   "execution_count": 14,
   "metadata": {},
   "outputs": [],
   "source": [
    "#data_tweets.tail()"
   ]
  },
  {
   "cell_type": "code",
   "execution_count": 15,
   "metadata": {},
   "outputs": [],
   "source": [
    "#simpan= data_tweets.to_json('coba.json', lines=True)"
   ]
  },
  {
   "cell_type": "code",
   "execution_count": 16,
   "metadata": {},
   "outputs": [],
   "source": [
    "#pd.read_json('coba.json')"
   ]
  },
  {
   "cell_type": "code",
   "execution_count": 17,
   "metadata": {},
   "outputs": [],
   "source": [
    "#data_tweets.to_csv('coba.csv')"
   ]
  },
  {
   "cell_type": "code",
   "execution_count": 18,
   "metadata": {},
   "outputs": [],
   "source": [
    "#data_tweets = pd.read_csv('coba.csv')"
   ]
  },
  {
   "cell_type": "code",
   "execution_count": 19,
   "metadata": {},
   "outputs": [],
   "source": [
    "#likes = data_tweets[['id','date','username','list_likes']]"
   ]
  },
  {
   "cell_type": "code",
   "execution_count": 20,
   "metadata": {
    "scrolled": true
   },
   "outputs": [],
   "source": [
    "#likes"
   ]
  },
  {
   "cell_type": "code",
   "execution_count": 21,
   "metadata": {},
   "outputs": [],
   "source": [
    "#abc= likes.list_likes.apply(pd.Series) \\\n",
    "#    .merge(likes, left_index = True, right_index = True) \\\n",
    "#    .drop([\"list_likes\"], axis = 1) \\\n",
    "#    .melt(id_vars = ['id', 'username', 'date'], value_name = \"like\") \\\n",
    "#    .drop(\"variable\", axis = 1) \\\n",
    "#    .dropna()\n",
    "#abc = abc.to_csv('like.csv')"
   ]
  },
  {
   "cell_type": "code",
   "execution_count": 22,
   "metadata": {},
   "outputs": [],
   "source": [
    "#abc.sort_values(by='date')\n",
    "#split_date ='2021-01-01'\n",
    "#likes_tahap1 = abc.loc[abc['date'] <= split_date]\n",
    "#likes_tahap2 = abc.loc[abc['date'] > split_date]"
   ]
  },
  {
   "cell_type": "code",
   "execution_count": 23,
   "metadata": {},
   "outputs": [],
   "source": [
    "#likes_tahap1.sort_values(by='date')"
   ]
  },
  {
   "cell_type": "code",
   "execution_count": 24,
   "metadata": {},
   "outputs": [],
   "source": [
    "#retweet = data_tweets[['id','date','username','list_retweets']]\n",
    "#retweet"
   ]
  },
  {
   "cell_type": "code",
   "execution_count": 25,
   "metadata": {},
   "outputs": [],
   "source": [
    "#fgh = retweet.list_retweets.apply(pd.Series) \\\n",
    "#    .merge(retweet, left_index = True, right_index = True) \\\n",
    "#    .drop([\"list_retweets\"], axis = 1) \\\n",
    "#    .melt(id_vars = ['id', 'username', 'date'], value_name = \"retweet\") \\\n",
    "#    .drop(\"variable\", axis = 1) \\\n",
    "#    .dropna()\n",
    "#fgh = fgh.to_csv('retweet.csv')"
   ]
  },
  {
   "cell_type": "code",
   "execution_count": 26,
   "metadata": {},
   "outputs": [],
   "source": [
    "#split_date ='2021-01-01'\n",
    "#retweets_tahap1 = fgh.loc[fgh['date'] <= split_date]\n",
    "#retweets_tahap2 = fgh.loc[fgh['date'] > split_date]"
   ]
  },
  {
   "cell_type": "code",
   "execution_count": 27,
   "metadata": {},
   "outputs": [],
   "source": [
    "#import networkx as nx\n",
    "\n",
    "#G = nx.from_pandas_edgelist(likes_tahap1, source='id', target='like')\n"
   ]
  },
  {
   "cell_type": "code",
   "execution_count": 28,
   "metadata": {},
   "outputs": [
    {
     "ename": "FileNotFoundError",
     "evalue": "[Errno 2] No such file or directory: 'like.csv'",
     "output_type": "error",
     "traceback": [
      "\u001b[1;31m---------------------------------------------------------------------------\u001b[0m",
      "\u001b[1;31mFileNotFoundError\u001b[0m                         Traceback (most recent call last)",
      "\u001b[1;32m<ipython-input-28-4c20ca81922c>\u001b[0m in \u001b[0;36m<module>\u001b[1;34m\u001b[0m\n\u001b[1;32m----> 1\u001b[1;33m \u001b[0mlikes\u001b[0m \u001b[1;33m=\u001b[0m \u001b[0mpd\u001b[0m\u001b[1;33m.\u001b[0m\u001b[0mread_csv\u001b[0m\u001b[1;33m(\u001b[0m\u001b[1;34m'like.csv'\u001b[0m\u001b[1;33m)\u001b[0m\u001b[1;33m\u001b[0m\u001b[1;33m\u001b[0m\u001b[0m\n\u001b[0m\u001b[0;32m      2\u001b[0m \u001b[0mretweets\u001b[0m \u001b[1;33m=\u001b[0m \u001b[0mpd\u001b[0m\u001b[1;33m.\u001b[0m\u001b[0mread_csv\u001b[0m\u001b[1;33m(\u001b[0m\u001b[1;34m'retweet.csv'\u001b[0m\u001b[1;33m)\u001b[0m\u001b[1;33m\u001b[0m\u001b[1;33m\u001b[0m\u001b[0m\n",
      "\u001b[1;32m~\\anaconda3\\lib\\site-packages\\pandas\\io\\parsers.py\u001b[0m in \u001b[0;36mread_csv\u001b[1;34m(filepath_or_buffer, sep, delimiter, header, names, index_col, usecols, squeeze, prefix, mangle_dupe_cols, dtype, engine, converters, true_values, false_values, skipinitialspace, skiprows, skipfooter, nrows, na_values, keep_default_na, na_filter, verbose, skip_blank_lines, parse_dates, infer_datetime_format, keep_date_col, date_parser, dayfirst, cache_dates, iterator, chunksize, compression, thousands, decimal, lineterminator, quotechar, quoting, doublequote, escapechar, comment, encoding, dialect, error_bad_lines, warn_bad_lines, delim_whitespace, low_memory, memory_map, float_precision)\u001b[0m\n\u001b[0;32m    684\u001b[0m     )\n\u001b[0;32m    685\u001b[0m \u001b[1;33m\u001b[0m\u001b[0m\n\u001b[1;32m--> 686\u001b[1;33m     \u001b[1;32mreturn\u001b[0m \u001b[0m_read\u001b[0m\u001b[1;33m(\u001b[0m\u001b[0mfilepath_or_buffer\u001b[0m\u001b[1;33m,\u001b[0m \u001b[0mkwds\u001b[0m\u001b[1;33m)\u001b[0m\u001b[1;33m\u001b[0m\u001b[1;33m\u001b[0m\u001b[0m\n\u001b[0m\u001b[0;32m    687\u001b[0m \u001b[1;33m\u001b[0m\u001b[0m\n\u001b[0;32m    688\u001b[0m \u001b[1;33m\u001b[0m\u001b[0m\n",
      "\u001b[1;32m~\\anaconda3\\lib\\site-packages\\pandas\\io\\parsers.py\u001b[0m in \u001b[0;36m_read\u001b[1;34m(filepath_or_buffer, kwds)\u001b[0m\n\u001b[0;32m    450\u001b[0m \u001b[1;33m\u001b[0m\u001b[0m\n\u001b[0;32m    451\u001b[0m     \u001b[1;31m# Create the parser.\u001b[0m\u001b[1;33m\u001b[0m\u001b[1;33m\u001b[0m\u001b[1;33m\u001b[0m\u001b[0m\n\u001b[1;32m--> 452\u001b[1;33m     \u001b[0mparser\u001b[0m \u001b[1;33m=\u001b[0m \u001b[0mTextFileReader\u001b[0m\u001b[1;33m(\u001b[0m\u001b[0mfp_or_buf\u001b[0m\u001b[1;33m,\u001b[0m \u001b[1;33m**\u001b[0m\u001b[0mkwds\u001b[0m\u001b[1;33m)\u001b[0m\u001b[1;33m\u001b[0m\u001b[1;33m\u001b[0m\u001b[0m\n\u001b[0m\u001b[0;32m    453\u001b[0m \u001b[1;33m\u001b[0m\u001b[0m\n\u001b[0;32m    454\u001b[0m     \u001b[1;32mif\u001b[0m \u001b[0mchunksize\u001b[0m \u001b[1;32mor\u001b[0m \u001b[0miterator\u001b[0m\u001b[1;33m:\u001b[0m\u001b[1;33m\u001b[0m\u001b[1;33m\u001b[0m\u001b[0m\n",
      "\u001b[1;32m~\\anaconda3\\lib\\site-packages\\pandas\\io\\parsers.py\u001b[0m in \u001b[0;36m__init__\u001b[1;34m(self, f, engine, **kwds)\u001b[0m\n\u001b[0;32m    944\u001b[0m             \u001b[0mself\u001b[0m\u001b[1;33m.\u001b[0m\u001b[0moptions\u001b[0m\u001b[1;33m[\u001b[0m\u001b[1;34m\"has_index_names\"\u001b[0m\u001b[1;33m]\u001b[0m \u001b[1;33m=\u001b[0m \u001b[0mkwds\u001b[0m\u001b[1;33m[\u001b[0m\u001b[1;34m\"has_index_names\"\u001b[0m\u001b[1;33m]\u001b[0m\u001b[1;33m\u001b[0m\u001b[1;33m\u001b[0m\u001b[0m\n\u001b[0;32m    945\u001b[0m \u001b[1;33m\u001b[0m\u001b[0m\n\u001b[1;32m--> 946\u001b[1;33m         \u001b[0mself\u001b[0m\u001b[1;33m.\u001b[0m\u001b[0m_make_engine\u001b[0m\u001b[1;33m(\u001b[0m\u001b[0mself\u001b[0m\u001b[1;33m.\u001b[0m\u001b[0mengine\u001b[0m\u001b[1;33m)\u001b[0m\u001b[1;33m\u001b[0m\u001b[1;33m\u001b[0m\u001b[0m\n\u001b[0m\u001b[0;32m    947\u001b[0m \u001b[1;33m\u001b[0m\u001b[0m\n\u001b[0;32m    948\u001b[0m     \u001b[1;32mdef\u001b[0m \u001b[0mclose\u001b[0m\u001b[1;33m(\u001b[0m\u001b[0mself\u001b[0m\u001b[1;33m)\u001b[0m\u001b[1;33m:\u001b[0m\u001b[1;33m\u001b[0m\u001b[1;33m\u001b[0m\u001b[0m\n",
      "\u001b[1;32m~\\anaconda3\\lib\\site-packages\\pandas\\io\\parsers.py\u001b[0m in \u001b[0;36m_make_engine\u001b[1;34m(self, engine)\u001b[0m\n\u001b[0;32m   1176\u001b[0m     \u001b[1;32mdef\u001b[0m \u001b[0m_make_engine\u001b[0m\u001b[1;33m(\u001b[0m\u001b[0mself\u001b[0m\u001b[1;33m,\u001b[0m \u001b[0mengine\u001b[0m\u001b[1;33m=\u001b[0m\u001b[1;34m\"c\"\u001b[0m\u001b[1;33m)\u001b[0m\u001b[1;33m:\u001b[0m\u001b[1;33m\u001b[0m\u001b[1;33m\u001b[0m\u001b[0m\n\u001b[0;32m   1177\u001b[0m         \u001b[1;32mif\u001b[0m \u001b[0mengine\u001b[0m \u001b[1;33m==\u001b[0m \u001b[1;34m\"c\"\u001b[0m\u001b[1;33m:\u001b[0m\u001b[1;33m\u001b[0m\u001b[1;33m\u001b[0m\u001b[0m\n\u001b[1;32m-> 1178\u001b[1;33m             \u001b[0mself\u001b[0m\u001b[1;33m.\u001b[0m\u001b[0m_engine\u001b[0m \u001b[1;33m=\u001b[0m \u001b[0mCParserWrapper\u001b[0m\u001b[1;33m(\u001b[0m\u001b[0mself\u001b[0m\u001b[1;33m.\u001b[0m\u001b[0mf\u001b[0m\u001b[1;33m,\u001b[0m \u001b[1;33m**\u001b[0m\u001b[0mself\u001b[0m\u001b[1;33m.\u001b[0m\u001b[0moptions\u001b[0m\u001b[1;33m)\u001b[0m\u001b[1;33m\u001b[0m\u001b[1;33m\u001b[0m\u001b[0m\n\u001b[0m\u001b[0;32m   1179\u001b[0m         \u001b[1;32melse\u001b[0m\u001b[1;33m:\u001b[0m\u001b[1;33m\u001b[0m\u001b[1;33m\u001b[0m\u001b[0m\n\u001b[0;32m   1180\u001b[0m             \u001b[1;32mif\u001b[0m \u001b[0mengine\u001b[0m \u001b[1;33m==\u001b[0m \u001b[1;34m\"python\"\u001b[0m\u001b[1;33m:\u001b[0m\u001b[1;33m\u001b[0m\u001b[1;33m\u001b[0m\u001b[0m\n",
      "\u001b[1;32m~\\anaconda3\\lib\\site-packages\\pandas\\io\\parsers.py\u001b[0m in \u001b[0;36m__init__\u001b[1;34m(self, src, **kwds)\u001b[0m\n\u001b[0;32m   2006\u001b[0m         \u001b[0mkwds\u001b[0m\u001b[1;33m[\u001b[0m\u001b[1;34m\"usecols\"\u001b[0m\u001b[1;33m]\u001b[0m \u001b[1;33m=\u001b[0m \u001b[0mself\u001b[0m\u001b[1;33m.\u001b[0m\u001b[0musecols\u001b[0m\u001b[1;33m\u001b[0m\u001b[1;33m\u001b[0m\u001b[0m\n\u001b[0;32m   2007\u001b[0m \u001b[1;33m\u001b[0m\u001b[0m\n\u001b[1;32m-> 2008\u001b[1;33m         \u001b[0mself\u001b[0m\u001b[1;33m.\u001b[0m\u001b[0m_reader\u001b[0m \u001b[1;33m=\u001b[0m \u001b[0mparsers\u001b[0m\u001b[1;33m.\u001b[0m\u001b[0mTextReader\u001b[0m\u001b[1;33m(\u001b[0m\u001b[0msrc\u001b[0m\u001b[1;33m,\u001b[0m \u001b[1;33m**\u001b[0m\u001b[0mkwds\u001b[0m\u001b[1;33m)\u001b[0m\u001b[1;33m\u001b[0m\u001b[1;33m\u001b[0m\u001b[0m\n\u001b[0m\u001b[0;32m   2009\u001b[0m         \u001b[0mself\u001b[0m\u001b[1;33m.\u001b[0m\u001b[0munnamed_cols\u001b[0m \u001b[1;33m=\u001b[0m \u001b[0mself\u001b[0m\u001b[1;33m.\u001b[0m\u001b[0m_reader\u001b[0m\u001b[1;33m.\u001b[0m\u001b[0munnamed_cols\u001b[0m\u001b[1;33m\u001b[0m\u001b[1;33m\u001b[0m\u001b[0m\n\u001b[0;32m   2010\u001b[0m \u001b[1;33m\u001b[0m\u001b[0m\n",
      "\u001b[1;32mpandas\\_libs\\parsers.pyx\u001b[0m in \u001b[0;36mpandas._libs.parsers.TextReader.__cinit__\u001b[1;34m()\u001b[0m\n",
      "\u001b[1;32mpandas\\_libs\\parsers.pyx\u001b[0m in \u001b[0;36mpandas._libs.parsers.TextReader._setup_parser_source\u001b[1;34m()\u001b[0m\n",
      "\u001b[1;31mFileNotFoundError\u001b[0m: [Errno 2] No such file or directory: 'like.csv'"
     ]
    }
   ],
   "source": [
    "likes = pd.read_csv('like.csv')\n",
    "retweets = pd.read_csv('retweet.csv')"
   ]
  },
  {
   "cell_type": "code",
   "execution_count": null,
   "metadata": {},
   "outputs": [],
   "source": [
    "likes"
   ]
  },
  {
   "cell_type": "code",
   "execution_count": null,
   "metadata": {},
   "outputs": [],
   "source": [
    "retweets"
   ]
  },
  {
   "cell_type": "code",
   "execution_count": null,
   "metadata": {},
   "outputs": [],
   "source": [
    "retweets.groupby('retweet').agg(lambda x: x.tolist())"
   ]
  },
  {
   "cell_type": "code",
   "execution_count": null,
   "metadata": {},
   "outputs": [],
   "source": [
    "retweets.groupby('id').agg(lambda x: x.tolist())"
   ]
  },
  {
   "cell_type": "code",
   "execution_count": null,
   "metadata": {},
   "outputs": [],
   "source": [
    "new_likes = likes.drop([\"Unnamed: 0\"], axis = 1) \\\n",
    "        .dropna()\n",
    "new_retweet = retweets.drop([\"Unnamed: 0\"], axis = 1) \\\n",
    "        .dropna()\n"
   ]
  },
  {
   "cell_type": "code",
   "execution_count": null,
   "metadata": {},
   "outputs": [],
   "source": [
    "new_likes"
   ]
  },
  {
   "cell_type": "code",
   "execution_count": null,
   "metadata": {
    "scrolled": true
   },
   "outputs": [],
   "source": [
    "new_retweet"
   ]
  },
  {
   "cell_type": "code",
   "execution_count": null,
   "metadata": {},
   "outputs": [],
   "source": [
    "Like_agustus = (new_likes['date'] > '2020-08-1') & (new_likes['date'] <= '2020-08-31')\n",
    "Like_september = (new_likes['date'] > '2020-09-1') & (new_likes['date'] <= '2020-09-30')\n",
    "Like_oktober = (new_likes['date'] > '2020-10-1') & (new_likes['date'] <= '2020-10-31')\n",
    "Like_november = (new_likes['date'] > '2020-11-1') & (new_likes['date'] <= '2020-11-30')\n",
    "Like_desember = (new_likes['date'] > '2020-12-1') & (new_likes['date'] <= '2020-12-31')\n",
    "Like_januari = (new_likes['date'] > '2021-01-15') & (new_likes['date'] <= '2021-01-31')\n",
    "Like_februari = (new_likes['date'] > '2021-02-01') & (new_likes['date'] <= '2021-02-28')\n",
    "Like_maret = (new_likes['date'] > '2021-03-01') & (new_likes['date'] <= '2021-03-31')\n",
    "Like_april = (new_likes['date'] > '2021-04-01') & (new_likes['date'] <= '2021-04-06')\n",
    "Retweet_agustus = (new_retweet['date'] > '2020-08-1') & (new_retweet['date'] <= '2020-08-31')\n",
    "Retweet_september = (new_retweet['date'] > '2020-09-1') & (new_retweet['date'] <= '2020-09-30')\n",
    "Retweet_oktober = (new_retweet['date'] > '2020-10-1') & (new_retweet['date'] <= '2020-10-31')\n",
    "Retweet_november = (new_retweet['date'] > '2020-11-1') & (new_retweet['date'] <= '2020-11-30')\n",
    "Retweet_desember = (new_retweet['date'] > '2020-12-1') & (new_retweet['date'] <= '2020-12-31')\n",
    "Retweet_januari = (new_retweet['date'] > '2021-01-15') & (new_retweet['date'] <= '2021-01-31')\n",
    "Retweet_februari = (new_retweet['date'] > '2021-02-01') & (new_retweet['date'] <= '2021-02-28')\n",
    "Retweet_maret = (new_retweet['date'] > '2021-03-01') & (new_retweet['date'] <= '2021-03-31')\n",
    "Retweet_april = (new_retweet['date'] > '2021-04-01') & (new_retweet['date'] <= '2021-04-06')"
   ]
  },
  {
   "cell_type": "code",
   "execution_count": null,
   "metadata": {},
   "outputs": [],
   "source": [
    "filtered_like_agustus=new_likes.loc[Like_agustus]\n",
    "filtered_like_september=new_likes.loc[Like_september]\n",
    "filtered_like_oktober=new_likes.loc[Like_oktober]\n",
    "filtered_like_november=new_likes.loc[Like_november]\n",
    "filtered_like_desember=new_likes.loc[Like_desember]\n",
    "filtered_like_januari=new_likes.loc[Like_januari]\n",
    "filtered_like_februari=new_likes.loc[Like_februari]\n",
    "filtered_like_maret=new_likes.loc[Like_maret]\n",
    "filtered_like_april=new_likes.loc[Like_april]\n",
    "filtered_retweet_agustus=new_retweet.loc[Retweet_agustus]\n",
    "filtered_retweet_september=new_retweet.loc[Retweet_september]\n",
    "filtered_retweet_oktober=new_retweet.loc[Retweet_oktober]\n",
    "filtered_retweet_november=new_retweet.loc[Retweet_november]\n",
    "filtered_retweet_desember=new_retweet.loc[Retweet_desember]\n",
    "filtered_retweet_januari=new_retweet.loc[Retweet_januari]\n",
    "filtered_retweet_februari=new_retweet.loc[Retweet_februari]\n",
    "filtered_retweet_maret=new_retweet.loc[Retweet_maret]\n",
    "filtered_retweet_april=new_retweet.loc[Retweet_april]\n"
   ]
  },
  {
   "cell_type": "code",
   "execution_count": null,
   "metadata": {
    "scrolled": true
   },
   "outputs": [],
   "source": [
    "import networkx as nx\n",
    "import matplotlib.pyplot as plt\n",
    "%matplotlib inline\n",
    "\n",
    "ags_like = nx.from_pandas_edgelist(retweets,source=\"id\",target=\"retweet\")\n",
    "plt.figure(figsize=(15,15))\n",
    "#plt.title('Like Tweet Agustus')\n",
    "plt.title('Retweets')\n",
    "nx.draw_networkx(ags_like, node_color = 'green')\n",
    "plt.show()"
   ]
  },
  {
   "cell_type": "code",
   "execution_count": null,
   "metadata": {},
   "outputs": [],
   "source": [
    "most_influential = nx.degree_centrality(ags_like)\n",
    "most_influential_r = nx.degree_centrality(ags_retweet)"
   ]
  },
  {
   "cell_type": "code",
   "execution_count": null,
   "metadata": {
    "scrolled": true
   },
   "outputs": [],
   "source": [
    "for w in sorted(most_influential, key=most_influential.get, reverse=True):\n",
    "    print(w, most_influential[w])"
   ]
  },
  {
   "cell_type": "code",
   "execution_count": null,
   "metadata": {
    "scrolled": true
   },
   "outputs": [],
   "source": [
    "for w in sorted(most_influential_r, key=most_influential_r.get, reverse=True):\n",
    "    print(w, most_influential_r[w])"
   ]
  },
  {
   "cell_type": "code",
   "execution_count": null,
   "metadata": {
    "scrolled": true
   },
   "outputs": [],
   "source": [
    "sep_like = nx.from_pandas_edgelist(filtered_like_september,source=\"id\",target=\"like\")\n",
    "plt.figure(figsize=(15,15))\n",
    "plt.title('Like Tweet September')\n",
    "nx.draw_networkx(sep_like, node_color = 'green')\n",
    "plt.show()"
   ]
  },
  {
   "cell_type": "code",
   "execution_count": null,
   "metadata": {
    "scrolled": true
   },
   "outputs": [],
   "source": [
    "sep_retweet = nx.from_pandas_edgelist(filtered_retweet_september,source=\"id\",target=\"retweet\")\n",
    "plt.figure(figsize=(15,15))\n",
    "plt.title('Retweet Tweet September')\n",
    "nx.draw_networkx(sep_retweet, node_color = 'red')\n",
    "plt.show()"
   ]
  },
  {
   "cell_type": "code",
   "execution_count": null,
   "metadata": {},
   "outputs": [],
   "source": [
    "most_influential = nx.degree_centrality(sep_like)\n",
    "most_influential_r = nx.degree_centrality(sep_retweet)"
   ]
  },
  {
   "cell_type": "code",
   "execution_count": null,
   "metadata": {
    "scrolled": true
   },
   "outputs": [],
   "source": [
    "for w in sorted(most_influential, key=most_influential.get, reverse=True):\n",
    "    print(w, most_influential[w])"
   ]
  },
  {
   "cell_type": "code",
   "execution_count": null,
   "metadata": {
    "scrolled": true
   },
   "outputs": [],
   "source": [
    "for w in sorted(most_influential_r, key=most_influential_r.get, reverse=True):\n",
    "    print(w, most_influential_r[w])"
   ]
  },
  {
   "cell_type": "code",
   "execution_count": null,
   "metadata": {
    "scrolled": true
   },
   "outputs": [],
   "source": [
    "okt_like = nx.from_pandas_edgelist(filtered_like_oktober,source=\"id\",target=\"like\")\n",
    "plt.figure(figsize=(15,15))\n",
    "plt.title('Like Tweet Oktober')\n",
    "nx.draw_networkx(okt_like, node_color = 'green')\n",
    "plt.show()"
   ]
  },
  {
   "cell_type": "code",
   "execution_count": null,
   "metadata": {
    "scrolled": true
   },
   "outputs": [],
   "source": [
    "okt_retweet = nx.from_pandas_edgelist(filtered_retweet_oktober,source=\"id\",target=\"retweet\")\n",
    "plt.figure(figsize=(15,15))\n",
    "plt.title('Retweet Tweet Oktober')\n",
    "nx.draw_networkx(okt_retweet, node_color = 'red')\n",
    "plt.show()"
   ]
  },
  {
   "cell_type": "code",
   "execution_count": null,
   "metadata": {},
   "outputs": [],
   "source": [
    "most_influential = nx.degree_centrality(okt_like)\n",
    "most_influential_r = nx.degree_centrality(okt_retweet)"
   ]
  },
  {
   "cell_type": "code",
   "execution_count": null,
   "metadata": {
    "scrolled": true
   },
   "outputs": [],
   "source": [
    "for w in sorted(most_influential, key=most_influential.get, reverse=True):\n",
    "    print(w, most_influential[w])"
   ]
  },
  {
   "cell_type": "code",
   "execution_count": null,
   "metadata": {
    "scrolled": true
   },
   "outputs": [],
   "source": [
    "for w in sorted(most_influential_r, key=most_influential_r.get, reverse=True):\n",
    "    print(w, most_influential_r[w])"
   ]
  },
  {
   "cell_type": "code",
   "execution_count": null,
   "metadata": {
    "scrolled": true
   },
   "outputs": [],
   "source": [
    "nov_like = nx.from_pandas_edgelist(filtered_like_november,source=\"id\",target=\"like\")\n",
    "plt.figure(figsize=(15,15))\n",
    "plt.title('Like Tweet November')\n",
    "nx.draw_networkx(nov_like, node_color = 'green')\n",
    "plt.show()"
   ]
  },
  {
   "cell_type": "code",
   "execution_count": null,
   "metadata": {},
   "outputs": [],
   "source": [
    "nov_retweet = nx.from_pandas_edgelist(filtered_retweet_november,source=\"id\",target=\"retweet\")\n",
    "plt.figure(figsize=(15,15))\n",
    "plt.title('Retweet Tweet Oktober')\n",
    "nx.draw_networkx(nov_retweet, node_color = 'red')\n",
    "plt.show()"
   ]
  },
  {
   "cell_type": "code",
   "execution_count": null,
   "metadata": {},
   "outputs": [],
   "source": [
    "most_influential = nx.degree_centrality(nov_like)\n",
    "most_influential_r = nx.degree_centrality(nov_retweet)"
   ]
  },
  {
   "cell_type": "code",
   "execution_count": null,
   "metadata": {
    "scrolled": true
   },
   "outputs": [],
   "source": [
    "for w in sorted(most_influential, key=most_influential.get, reverse=True):\n",
    "    print(w, most_influential[w])"
   ]
  },
  {
   "cell_type": "code",
   "execution_count": null,
   "metadata": {},
   "outputs": [],
   "source": [
    "for w in sorted(most_influential_r, key=most_influential_r.get, reverse=True):\n",
    "    print(w, most_influential_r[w])"
   ]
  },
  {
   "cell_type": "code",
   "execution_count": null,
   "metadata": {
    "scrolled": true
   },
   "outputs": [],
   "source": [
    "des_like = nx.from_pandas_edgelist(filtered_like_desember,source=\"id\",target=\"like\")\n",
    "plt.figure(figsize=(15,15))\n",
    "plt.title('Like Tweet Desember')\n",
    "nx.draw_networkx(des_like, node_color = 'green')\n",
    "plt.show()"
   ]
  },
  {
   "cell_type": "code",
   "execution_count": null,
   "metadata": {
    "scrolled": true
   },
   "outputs": [],
   "source": [
    "des_retweet = nx.from_pandas_edgelist(filtered_retweet_desember,source=\"id\",target=\"retweet\")\n",
    "plt.figure(figsize=(15,15))\n",
    "plt.title('Retweet Tweet Desember')\n",
    "nx.draw_networkx(des_retweet, node_color = 'red')\n",
    "plt.show()"
   ]
  },
  {
   "cell_type": "code",
   "execution_count": null,
   "metadata": {},
   "outputs": [],
   "source": [
    "most_influential = nx.degree_centrality(des_like)\n",
    "most_influential_r = nx.degree_centrality(des_retweet)"
   ]
  },
  {
   "cell_type": "code",
   "execution_count": null,
   "metadata": {
    "scrolled": true
   },
   "outputs": [],
   "source": [
    "for w in sorted(most_influential, key=most_influential.get, reverse=True):\n",
    "    print(w, most_influential[w])"
   ]
  },
  {
   "cell_type": "code",
   "execution_count": null,
   "metadata": {
    "scrolled": true
   },
   "outputs": [],
   "source": [
    "for w in sorted(most_influential_r, key=most_influential_r.get, reverse=True):\n",
    "    print(w, most_influential_r[w])"
   ]
  },
  {
   "cell_type": "code",
   "execution_count": null,
   "metadata": {
    "scrolled": true
   },
   "outputs": [],
   "source": [
    "jan_like = nx.from_pandas_edgelist(filtered_like_januari,source=\"id\",target=\"like\")\n",
    "plt.figure(figsize=(15,15))\n",
    "plt.title('Like Tweet Januari')\n",
    "nx.draw_networkx(jan_like, node_color = 'green')\n",
    "plt.show()"
   ]
  },
  {
   "cell_type": "code",
   "execution_count": null,
   "metadata": {
    "scrolled": true
   },
   "outputs": [],
   "source": [
    "jan_retweet = nx.from_pandas_edgelist(filtered_retweet_januari,source=\"id\",target=\"retweet\")\n",
    "plt.figure(figsize=(15,15))\n",
    "plt.title('Retweet Tweet Januari')\n",
    "nx.draw_networkx(jan_retweet, node_color = 'red')\n",
    "plt.show()"
   ]
  },
  {
   "cell_type": "code",
   "execution_count": null,
   "metadata": {},
   "outputs": [],
   "source": [
    "most_influential = nx.degree_centrality(jan_like)\n",
    "most_influential_r = nx.degree_centrality(jan_retweet)"
   ]
  },
  {
   "cell_type": "code",
   "execution_count": null,
   "metadata": {
    "scrolled": true
   },
   "outputs": [],
   "source": [
    "for w in sorted(most_influential, key=most_influential.get, reverse=True):\n",
    "    print(w, most_influential[w])"
   ]
  },
  {
   "cell_type": "code",
   "execution_count": null,
   "metadata": {},
   "outputs": [],
   "source": [
    "for w in sorted(most_influential_r, key=most_influential_r.get, reverse=True):\n",
    "    print(w, most_influential_r[w])"
   ]
  },
  {
   "cell_type": "code",
   "execution_count": null,
   "metadata": {
    "scrolled": true
   },
   "outputs": [],
   "source": [
    "feb_like = nx.from_pandas_edgelist(filtered_like_februari,source=\"id\",target=\"like\")\n",
    "plt.figure(figsize=(15,15))\n",
    "plt.title('Like Tweet Februari')\n",
    "nx.draw_networkx(feb_like, node_color = 'green')\n",
    "plt.show()"
   ]
  },
  {
   "cell_type": "code",
   "execution_count": null,
   "metadata": {
    "scrolled": true
   },
   "outputs": [],
   "source": [
    "feb_retweet = nx.from_pandas_edgelist(filtered_retweet_februari,source=\"id\",target=\"retweet\")\n",
    "plt.figure(figsize=(15,15))\n",
    "plt.title('Retweet Tweet Februari')\n",
    "nx.draw_networkx(feb_retweet, node_color = 'red')\n",
    "plt.show()"
   ]
  },
  {
   "cell_type": "code",
   "execution_count": null,
   "metadata": {},
   "outputs": [],
   "source": [
    "most_influential = nx.degree_centrality(feb_like)\n",
    "most_influential_r = nx.degree_centrality(feb_retweet)"
   ]
  },
  {
   "cell_type": "code",
   "execution_count": null,
   "metadata": {},
   "outputs": [],
   "source": [
    "for w in sorted(most_influential, key=most_influential.get, reverse=True):\n",
    "    print(w, most_influential[w])"
   ]
  },
  {
   "cell_type": "code",
   "execution_count": null,
   "metadata": {
    "scrolled": true
   },
   "outputs": [],
   "source": [
    "for w in sorted(most_influential_r, key=most_influential_r.get, reverse=True):\n",
    "    print(w, most_influential_r[w])"
   ]
  },
  {
   "cell_type": "code",
   "execution_count": null,
   "metadata": {
    "scrolled": true
   },
   "outputs": [],
   "source": [
    "mar_like = nx.from_pandas_edgelist(filtered_like_maret,source=\"id\",target=\"like\")\n",
    "plt.figure(figsize=(15,15))\n",
    "plt.title('Like Tweet Maret')\n",
    "nx.draw_networkx(mar_like, node_color = 'green')\n",
    "plt.show()"
   ]
  },
  {
   "cell_type": "code",
   "execution_count": null,
   "metadata": {
    "scrolled": true
   },
   "outputs": [],
   "source": [
    "mar_retweet = nx.from_pandas_edgelist(filtered_retweet_maret,source=\"id\",target=\"retweet\")\n",
    "plt.figure(figsize=(15,15))\n",
    "plt.title('Retweet Tweet Maret')\n",
    "nx.draw_networkx(mar_retweet, node_color = 'red')\n",
    "plt.show()"
   ]
  },
  {
   "cell_type": "code",
   "execution_count": null,
   "metadata": {},
   "outputs": [],
   "source": [
    "most_influential = nx.degree_centrality(mar_like)\n",
    "most_influential_r = nx.degree_centrality(mar_retweet)"
   ]
  },
  {
   "cell_type": "code",
   "execution_count": null,
   "metadata": {
    "scrolled": true
   },
   "outputs": [],
   "source": [
    "for w in sorted(most_influential, key=most_influential.get, reverse=True):\n",
    "    print(w, most_influential[w])"
   ]
  },
  {
   "cell_type": "code",
   "execution_count": null,
   "metadata": {},
   "outputs": [],
   "source": [
    "for w in sorted(most_influential_r, key=most_influential_r.get, reverse=True):\n",
    "    print(w, most_influential_r[w])"
   ]
  },
  {
   "cell_type": "code",
   "execution_count": null,
   "metadata": {
    "scrolled": true
   },
   "outputs": [],
   "source": [
    "apr_like = nx.from_pandas_edgelist(filtered_like_april,source=\"id\",target=\"like\")\n",
    "plt.figure(figsize=(15,15))\n",
    "plt.title('Like Tweet April')\n",
    "nx.draw_networkx(apr_like, node_color = 'green')\n",
    "plt.show()"
   ]
  },
  {
   "cell_type": "code",
   "execution_count": null,
   "metadata": {
    "scrolled": true
   },
   "outputs": [],
   "source": [
    "apr_retweet = nx.from_pandas_edgelist(filtered_retweet_april,source=\"id\",target=\"retweet\")\n",
    "plt.figure(figsize=(15,15))\n",
    "plt.title('Retweet Tweet April')\n",
    "nx.draw_networkx(apr_retweet, node_color = 'red')\n",
    "plt.show()"
   ]
  },
  {
   "cell_type": "code",
   "execution_count": null,
   "metadata": {},
   "outputs": [],
   "source": [
    "most_influential = nx.degree_centrality(apr_like)\n",
    "most_influential_r = nx.degree_centrality(apr_retweet)"
   ]
  },
  {
   "cell_type": "code",
   "execution_count": null,
   "metadata": {},
   "outputs": [],
   "source": [
    "for w in sorted(most_influential, key=most_influential.get, reverse=True):\n",
    "    print(w, most_influential[w])"
   ]
  },
  {
   "cell_type": "code",
   "execution_count": null,
   "metadata": {},
   "outputs": [],
   "source": [
    "for w in sorted(most_influential_r, key=most_influential_r.get, reverse=True):\n",
    "    print(w, most_influential_r[w])"
   ]
  },
  {
   "cell_type": "code",
   "execution_count": null,
   "metadata": {},
   "outputs": [],
   "source": [
    "new_retweet = retweets.drop([\"Unnamed: 0\", 'username', 'date'], axis = 1) \\\n",
    "        .dropna()"
   ]
  },
  {
   "cell_type": "code",
   "execution_count": null,
   "metadata": {},
   "outputs": [],
   "source": [
    "new_retweet"
   ]
  },
  {
   "cell_type": "code",
   "execution_count": null,
   "metadata": {},
   "outputs": [],
   "source": []
  },
  {
   "cell_type": "code",
   "execution_count": null,
   "metadata": {},
   "outputs": [],
   "source": [
    "plt.figure(figsize=(15,15))\n",
    "#plt.title('Like Tweet Agustus')\n",
    "plt.title('Retweets')\n",
    "nx.draw_networkx(K, node_color = 'green')\n",
    "plt.show()"
   ]
  },
  {
   "cell_type": "code",
   "execution_count": null,
   "metadata": {},
   "outputs": [],
   "source": [
    "import networkx as nx\n",
    "import matplotlib.pyplot as plt\n",
    "%matplotlib inline\n",
    "\n",
    "G = nx.from_pandas_edgelist(retweets,source=\"id\",target=\"retweet\")\n",
    "plt.figure(figsize=(15,15))\n",
    "#plt.title('Like Tweet Agustus')\n",
    "plt.title('Retweets')\n",
    "nx.draw_networkx(G, node_color = 'green')\n",
    "plt.show()"
   ]
  },
  {
   "cell_type": "code",
   "execution_count": null,
   "metadata": {},
   "outputs": [],
   "source": [
    "import twint\n",
    "import nest_asyncio\n",
    "import pandas as pd\n",
    "import json\n",
    "import networkx as nx\n",
    "import matplotlib.pyplot as plt"
   ]
  },
  {
   "cell_type": "code",
   "execution_count": null,
   "metadata": {},
   "outputs": [],
   "source": [
    "import itertools\n",
    "\n",
    "G = nx.Graph()\n",
    "G.add_nodes_from(new_retweet['retweet'].values)\n",
    "\n",
    "for i, group in new_retweet.groupby(['id'])['retweet']:\n",
    "    for u, v in itertools.combinations(group, 2):\n",
    "        G.add_edge(u,v)"
   ]
  },
  {
   "cell_type": "code",
   "execution_count": null,
   "metadata": {},
   "outputs": [],
   "source": [
    "largest_wcc = max(nx.connected_components(G), key=len)\n",
    "SG = G.__class__()\n",
    "SG.add_nodes_from((n, G.nodes[n]) for n in largest_wcc)\n",
    "if SG.is_multigraph():\n",
    "    SG.add_edges_from((n, nbr, key, d)\n",
    "        for n, nbrs in G.adj.items() if n in largest_wcc\n",
    "        for nbr, keydict in nbrs.items() if nbr in largest_wcc\n",
    "        for key, d in keydict.items())\n",
    "else:\n",
    "    SG.add_edges_from((n, nbr, d)\n",
    "        for n, nbrs in G.adj.items() if n in largest_wcc\n",
    "        for nbr, d in nbrs.items() if nbr in largest_wcc)\n",
    "SG.graph.update(G.graph)"
   ]
  },
  {
   "cell_type": "code",
   "execution_count": null,
   "metadata": {},
   "outputs": [],
   "source": [
    "plt.figure(figsize=(50,50))\n",
    "#plt.title('Like Tweet Agustus')\n",
    "plt.title('Retweets')\n",
    "nx.draw_networkx(SG, node_color = 'green')\n",
    "plt.show()"
   ]
  },
  {
   "cell_type": "code",
   "execution_count": null,
   "metadata": {},
   "outputs": [],
   "source": [
    "bcentrality = nx.betweenness_centrality(SG)\n",
    "bcentrality"
   ]
  },
  {
   "cell_type": "code",
   "execution_count": null,
   "metadata": {},
   "outputs": [],
   "source": [
    "import collections\n",
    "sortedDict = sorted(bcentrality.items(), key=lambda x: x[1], reverse=True)\n",
    "sortedDict"
   ]
  },
  {
   "cell_type": "code",
   "execution_count": null,
   "metadata": {},
   "outputs": [],
   "source": [
    "import csv\n",
    "with open('D:/betweennes_centrality2.csv', 'w') as  csvfile:\n",
    "    \n",
    "    writer = csv.writer(csvfile)\n",
    "    writer.writerow(['username', 'centrality'])\n",
    "    writer.writerows(sortedDict)"
   ]
  },
  {
   "cell_type": "code",
   "execution_count": null,
   "metadata": {},
   "outputs": [],
   "source": [
    "n = nx.number_of_cliques(SG)"
   ]
  },
  {
   "cell_type": "code",
   "execution_count": null,
   "metadata": {},
   "outputs": [],
   "source": [
    "n"
   ]
  },
  {
   "cell_type": "code",
   "execution_count": null,
   "metadata": {
    "scrolled": true
   },
   "outputs": [],
   "source": [
    "#Max clique\n",
    "\n",
    "CG = nx.make_max_clique_graph(SG)\n",
    "\n",
    "plt.figure(figsize=(20,20))\n",
    "plt.title('Clique')\n",
    "nx.draw_networkx(CG, node_color = 'green')\n",
    "plt.show()"
   ]
  },
  {
   "cell_type": "code",
   "execution_count": null,
   "metadata": {},
   "outputs": [],
   "source": [
    "cari = nx.find_cliques(SG)\n",
    "list_clique = []\n",
    "for c in cari:\n",
    "    if(len(c)>12):\n",
    "        list_clique.append(c)\n",
    "        \n",
    "for x in list_clique:\n",
    "    print(x)\n",
    "\n",
    "import csv\n",
    "with open('D:/list clique', 'w') as  csvfile:\n",
    "\n",
    "    writer = csv.writer(csvfile)\n",
    "    writer.writerows(list_clique)"
   ]
  },
  {
   "cell_type": "code",
   "execution_count": null,
   "metadata": {},
   "outputs": [],
   "source": [
    "clique = nx.cliques_containing_node(G, '@tyarsibarani')\n",
    "clique"
   ]
  },
  {
   "cell_type": "code",
   "execution_count": null,
   "metadata": {},
   "outputs": [],
   "source": [
    "clique = nx.cliques_containing_node(G, '@Suredead')\n",
    "clique"
   ]
  },
  {
   "cell_type": "code",
   "execution_count": null,
   "metadata": {},
   "outputs": [],
   "source": [
    "clique = nx.cliques_containing_node(G, '@evereeze')\n",
    "clique"
   ]
  },
  {
   "cell_type": "code",
   "execution_count": null,
   "metadata": {},
   "outputs": [],
   "source": [
    "clique = nx.cliques_containing_node(G, '@mygracepa')\n",
    "clique"
   ]
  },
  {
   "cell_type": "code",
   "execution_count": null,
   "metadata": {},
   "outputs": [],
   "source": [
    "len(SG)"
   ]
  },
  {
   "cell_type": "code",
   "execution_count": null,
   "metadata": {},
   "outputs": [],
   "source": [
    "cc_subgraph = (SG.subgraph(c) for c in nx.connected_components(SG))\n",
    "cc_subgraph = list(cc_subgraph)[0]"
   ]
  },
  {
   "cell_type": "code",
   "execution_count": null,
   "metadata": {},
   "outputs": [],
   "source": [
    "len(cc_subgraph)"
   ]
  },
  {
   "cell_type": "code",
   "execution_count": null,
   "metadata": {},
   "outputs": [],
   "source": [
    "x = [len(c) for c in nx.connected_components(SG)]\n",
    "plt.hist(x)"
   ]
  },
  {
   "cell_type": "code",
   "execution_count": null,
   "metadata": {},
   "outputs": [],
   "source": []
  }
 ],
 "metadata": {
  "kernelspec": {
   "display_name": "Python 3",
   "language": "python",
   "name": "python3"
  },
  "language_info": {
   "codemirror_mode": {
    "name": "ipython",
    "version": 3
   },
   "file_extension": ".py",
   "mimetype": "text/x-python",
   "name": "python",
   "nbconvert_exporter": "python",
   "pygments_lexer": "ipython3",
   "version": "3.8.5"
  }
 },
 "nbformat": 4,
 "nbformat_minor": 4
}
